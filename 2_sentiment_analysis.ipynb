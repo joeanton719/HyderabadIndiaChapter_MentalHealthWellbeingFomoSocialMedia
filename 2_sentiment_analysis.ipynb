{
 "cells": [
  {
   "cell_type": "code",
   "execution_count": 1,
   "metadata": {},
   "outputs": [],
   "source": [
    "import warnings\n",
    "\n",
    "import pandas as pd\n",
    "import numpy as np\n",
    "\n",
    "from tqdm.auto import tqdm\n",
    "from tqdm import tqdm_notebook\n",
    "\n",
    "warnings.filterwarnings(\"ignore\")"
   ]
  },
  {
   "cell_type": "code",
   "execution_count": 2,
   "metadata": {},
   "outputs": [
    {
     "data": {
      "text/html": [
       "<div>\n",
       "<style scoped>\n",
       "    .dataframe tbody tr th:only-of-type {\n",
       "        vertical-align: middle;\n",
       "    }\n",
       "\n",
       "    .dataframe tbody tr th {\n",
       "        vertical-align: top;\n",
       "    }\n",
       "\n",
       "    .dataframe thead th {\n",
       "        text-align: right;\n",
       "    }\n",
       "</style>\n",
       "<table border=\"1\" class=\"dataframe\">\n",
       "  <thead>\n",
       "    <tr style=\"text-align: right;\">\n",
       "      <th></th>\n",
       "      <th>post_id</th>\n",
       "      <th>title</th>\n",
       "      <th>timestamp</th>\n",
       "      <th>body</th>\n",
       "      <th>body_type</th>\n",
       "      <th>topic_name</th>\n",
       "      <th>cleaned_text</th>\n",
       "      <th>keywords</th>\n",
       "    </tr>\n",
       "  </thead>\n",
       "  <tbody>\n",
       "    <tr>\n",
       "      <th>0</th>\n",
       "      <td>1b0m6c1</td>\n",
       "      <td>r/CasualConversation is looking for new modera...</td>\n",
       "      <td>2024-02-26 16:48:14</td>\n",
       "      <td>Hello everyone,It's that time again, [we're lo...</td>\n",
       "      <td>post</td>\n",
       "      <td>22_subs_subreddits_trolls_subreddit</td>\n",
       "      <td>hello everyone time look new mod join team doc...</td>\n",
       "      <td>modmail courteous professional,grow strict quo...</td>\n",
       "    </tr>\n",
       "    <tr>\n",
       "      <th>1</th>\n",
       "      <td>1b5h6x7</td>\n",
       "      <td>Deleting social media was one of the best thin...</td>\n",
       "      <td>2024-03-03 13:29:12</td>\n",
       "      <td>I know that technically reddit is a social med...</td>\n",
       "      <td>post</td>\n",
       "      <td>1_fb_deleted_instagram_facebook</td>\n",
       "      <td>know technically reddit social medium not nega...</td>\n",
       "      <td>consider delete social,instagram tiktok,health...</td>\n",
       "    </tr>\n",
       "    <tr>\n",
       "      <th>2</th>\n",
       "      <td>1b5lu9j</td>\n",
       "      <td>Lonlieness is not about gender! My Opinion.</td>\n",
       "      <td>2024-03-03 16:56:09</td>\n",
       "      <td>Okay so I just wanted to get this off of my mi...</td>\n",
       "      <td>post</td>\n",
       "      <td>359_loneliness_lonely_epidemic_intiate</td>\n",
       "      <td>okay want get mind keep see people post man lo...</td>\n",
       "      <td>man loneliness epidemic,understand gender thin...</td>\n",
       "    </tr>\n",
       "    <tr>\n",
       "      <th>3</th>\n",
       "      <td>1b5jo0m</td>\n",
       "      <td>Have you gave up any hobbies?</td>\n",
       "      <td>2024-03-03 15:23:08</td>\n",
       "      <td>I used to be a doll collector. Then when I was...</td>\n",
       "      <td>post</td>\n",
       "      <td>-1_breakfast_cream_listening_bus</td>\n",
       "      <td>use doll collector tell weird old donate every...</td>\n",
       "      <td>use doll collector,throw away hobby,day happy ...</td>\n",
       "    </tr>\n",
       "    <tr>\n",
       "      <th>4</th>\n",
       "      <td>1b5c8ah</td>\n",
       "      <td>Is it me or has the world just stopped moving ...</td>\n",
       "      <td>2024-03-03 08:24:06</td>\n",
       "      <td>This is strange, but I feel like:1) I don’t re...</td>\n",
       "      <td>post</td>\n",
       "      <td>-1_breakfast_cream_listening_bus</td>\n",
       "      <td>strange feel like not remember anything happen...</td>\n",
       "      <td>good year covid,like remember happen,people tr...</td>\n",
       "    </tr>\n",
       "  </tbody>\n",
       "</table>\n",
       "</div>"
      ],
      "text/plain": [
       "   post_id                                              title  \\\n",
       "0  1b0m6c1  r/CasualConversation is looking for new modera...   \n",
       "1  1b5h6x7  Deleting social media was one of the best thin...   \n",
       "2  1b5lu9j       Lonlieness is not about gender! My Opinion.    \n",
       "3  1b5jo0m                      Have you gave up any hobbies?   \n",
       "4  1b5c8ah  Is it me or has the world just stopped moving ...   \n",
       "\n",
       "             timestamp                                               body  \\\n",
       "0  2024-02-26 16:48:14  Hello everyone,It's that time again, [we're lo...   \n",
       "1  2024-03-03 13:29:12  I know that technically reddit is a social med...   \n",
       "2  2024-03-03 16:56:09  Okay so I just wanted to get this off of my mi...   \n",
       "3  2024-03-03 15:23:08  I used to be a doll collector. Then when I was...   \n",
       "4  2024-03-03 08:24:06  This is strange, but I feel like:1) I don’t re...   \n",
       "\n",
       "  body_type                              topic_name  \\\n",
       "0      post     22_subs_subreddits_trolls_subreddit   \n",
       "1      post         1_fb_deleted_instagram_facebook   \n",
       "2      post  359_loneliness_lonely_epidemic_intiate   \n",
       "3      post        -1_breakfast_cream_listening_bus   \n",
       "4      post        -1_breakfast_cream_listening_bus   \n",
       "\n",
       "                                        cleaned_text  \\\n",
       "0  hello everyone time look new mod join team doc...   \n",
       "1  know technically reddit social medium not nega...   \n",
       "2  okay want get mind keep see people post man lo...   \n",
       "3  use doll collector tell weird old donate every...   \n",
       "4  strange feel like not remember anything happen...   \n",
       "\n",
       "                                            keywords  \n",
       "0  modmail courteous professional,grow strict quo...  \n",
       "1  consider delete social,instagram tiktok,health...  \n",
       "2  man loneliness epidemic,understand gender thin...  \n",
       "3  use doll collector,throw away hobby,day happy ...  \n",
       "4  good year covid,like remember happen,people tr...  "
      ]
     },
     "execution_count": 2,
     "metadata": {},
     "output_type": "execute_result"
    }
   ],
   "source": [
    "df=pd.read_csv(\"datasets/reddit_posts_with_topics_keywords.csv\", low_memory=False)\n",
    "df.head()"
   ]
  },
  {
   "cell_type": "code",
   "execution_count": 3,
   "metadata": {},
   "outputs": [
    {
     "name": "stdout",
     "output_type": "stream",
     "text": [
      "<class 'pandas.core.frame.DataFrame'>\n",
      "RangeIndex: 131952 entries, 0 to 131951\n",
      "Data columns (total 8 columns):\n",
      " #   Column        Non-Null Count   Dtype \n",
      "---  ------        --------------   ----- \n",
      " 0   post_id       131952 non-null  object\n",
      " 1   title         2285 non-null    object\n",
      " 2   timestamp     131952 non-null  object\n",
      " 3   body          131952 non-null  object\n",
      " 4   body_type     131952 non-null  object\n",
      " 5   topic_name    131952 non-null  object\n",
      " 6   cleaned_text  131952 non-null  object\n",
      " 7   keywords      131175 non-null  object\n",
      "dtypes: object(8)\n",
      "memory usage: 8.1+ MB\n"
     ]
    }
   ],
   "source": [
    "df.info()"
   ]
  },
  {
   "cell_type": "markdown",
   "metadata": {},
   "source": [
    "# Sentiment Classification"
   ]
  },
  {
   "cell_type": "code",
   "execution_count": 4,
   "metadata": {},
   "outputs": [
    {
     "name": "stdout",
     "output_type": "stream",
     "text": [
      "WARNING:tensorflow:From c:\\Users\\USER\\anaconda3\\Lib\\site-packages\\keras\\src\\losses.py:2976: The name tf.losses.sparse_softmax_cross_entropy is deprecated. Please use tf.compat.v1.losses.sparse_softmax_cross_entropy instead.\n",
      "\n"
     ]
    }
   ],
   "source": [
    "# https://huggingface.co/cardiffnlp/twitter-roberta-base-sentiment-latest\n",
    "from transformers import pipeline\n",
    "\n",
    "MODEL=\"cardiffnlp/twitter-roberta-base-sentiment-latest\"\n",
    "\n",
    "sentiment_predict_pipe = pipeline(\n",
    "    \"sentiment-analysis\",\n",
    "    model=MODEL,\n",
    "    tokenizer=MODEL,\n",
    "    max_length=512,\n",
    "    padding=True,\n",
    "    truncation=True\n",
    ")"
   ]
  },
  {
   "cell_type": "code",
   "execution_count": 6,
   "metadata": {},
   "outputs": [
    {
     "name": "stdout",
     "output_type": "stream",
     "text": [
      "I know that technically reddit is a social media but for me it doesn't negatively effect my mental health, in fact it helps me quite a lot and I have gained quite a bit of knowledge from surfing it  Almost two months ago I deleted Instagram and Tiktok and honestly it was super difficult the first few days but..  \\- I had time to do things that I would otherwise have not done due to scrolling endlessly. I started working out and I am super proud of myself for that  \\- I don't really care about my looks as much anymore  \\- My screen time has decreased by quite a lot, I have social interactions in person way more now  So I guess what I'm saying is if you've been considering deleting social media for whatever reason, do it.\n",
      "\n"
     ]
    },
    {
     "data": {
      "text/plain": [
       "[{'label': 'positive', 'score': 0.8177728056907654}]"
      ]
     },
     "execution_count": 6,
     "metadata": {},
     "output_type": "execute_result"
    }
   ],
   "source": [
    "# Positive Sentiment Text\n",
    "text1 = df.loc[1, 'body']\n",
    "print(text1)\n",
    "print()\n",
    "# predict_sentiment(text=text1)\n",
    "sentiment_predict_pipe(text1)"
   ]
  },
  {
   "cell_type": "code",
   "execution_count": 7,
   "metadata": {},
   "outputs": [
    {
     "name": "stdout",
     "output_type": "stream",
     "text": [
      "My birthday is Tuesday, I was supposed to be driving down to see my parents for an extra long weekend to celebrate and hang out but the weather took a turn for the worst. Now I'm trying to see if any of my friends may want to hang out this weekend instead.I remember feeling this same sense of disappointment when I was a kid and sometimes my friends who lived on farms would have to cancel on my birthday party due to weather conditions.I know it's no one's fault and there's nothing that can be done but right now I just feel like that sad disappointed little girl. It's all rushing back. I wanted to see the dog and the cat this weekend and eat angel food cake 😭🥲Anyways.... those of you with summer birthdays, what's that like LOL?\n",
      "\n"
     ]
    },
    {
     "data": {
      "text/plain": [
       "[{'label': 'negative', 'score': 0.7702678442001343}]"
      ]
     },
     "execution_count": 7,
     "metadata": {},
     "output_type": "execute_result"
    }
   ],
   "source": [
    "# Negative Sentiment Text\n",
    "text2 = df.loc[63, 'body']\n",
    "print(text2)\n",
    "print()\n",
    "# predict_sentiment(text=text2)\n",
    "sentiment_predict_pipe(text2)"
   ]
  },
  {
   "cell_type": "code",
   "execution_count": 8,
   "metadata": {},
   "outputs": [
    {
     "name": "stdout",
     "output_type": "stream",
     "text": [
      "Pretty much what the title says. English isn't my first language, but I've pretty much dealt with it since I was a baby. Never thought I would write in my life, but it just came to me, so why not. 😂🤷🏼‍♂️ Didn't wanna post on poetry or poetry critique subs, since I don't consider myself a poet. Let me know what y'all think. Thanks! 😁Here goes, I was never born. I will never die. I walk the shadows and bask in the light. To glare into nothingness, to find oneself within. While I climb and fall as I tug at fate's strings.\n",
      "\n"
     ]
    },
    {
     "data": {
      "text/plain": [
       "[{'label': 'neutral', 'score': 0.6266416907310486}]"
      ]
     },
     "execution_count": 8,
     "metadata": {},
     "output_type": "execute_result"
    }
   ],
   "source": [
    "# Neutral Sentiment Text\n",
    "text3 = df.loc[116, 'body']\n",
    "print(text3)\n",
    "print()\n",
    "# predict_sentiment(text=text3)\n",
    "sentiment_predict_pipe(text3)"
   ]
  },
  {
   "cell_type": "code",
   "execution_count": 9,
   "metadata": {},
   "outputs": [
    {
     "data": {
      "application/vnd.jupyter.widget-view+json": {
       "model_id": "be284e94108046229a82959541a84517",
       "version_major": 2,
       "version_minor": 0
      },
      "text/plain": [
       "  0%|          | 0/2062 [00:00<?, ?it/s]"
      ]
     },
     "metadata": {},
     "output_type": "display_data"
    }
   ],
   "source": [
    "# Define the batch size\n",
    "batch_size = 64\n",
    "\n",
    "# Load the tweets into memory\n",
    "tweets = df.loc[:, 'body'].to_list() \n",
    "\n",
    "# Classify the tweets in batches\n",
    "results = []\n",
    "for i in tqdm(range(0, len(df), batch_size)):\n",
    "    \n",
    "    batch = tweets[i:i+batch_size]\n",
    "    sentiments = sentiment_predict_pipe(batch)\n",
    "    results.extend(sentiments)"
   ]
  },
  {
   "cell_type": "code",
   "execution_count": 10,
   "metadata": {},
   "outputs": [],
   "source": [
    "df['sentiment']=results"
   ]
  },
  {
   "cell_type": "code",
   "execution_count": 15,
   "metadata": {},
   "outputs": [],
   "source": [
    "(\n",
    "    df.pipe(lambda x: x.join(pd.json_normalize(x['sentiment'])))\n",
    "    .rename(columns={'label':'sentiment_label', 'score':'sentiment_score'})\n",
    "    .drop('sentiment', axis=1)\n",
    "    .to_csv(\"datasets/reddit_posts_with_topics_keywords_sentiments.csv\", index=False)\n",
    ")"
   ]
  }
 ],
 "metadata": {
  "kernelspec": {
   "display_name": "base",
   "language": "python",
   "name": "python3"
  },
  "language_info": {
   "codemirror_mode": {
    "name": "ipython",
    "version": 3
   },
   "file_extension": ".py",
   "mimetype": "text/x-python",
   "name": "python",
   "nbconvert_exporter": "python",
   "pygments_lexer": "ipython3",
   "version": "3.11.5"
  }
 },
 "nbformat": 4,
 "nbformat_minor": 2
}
